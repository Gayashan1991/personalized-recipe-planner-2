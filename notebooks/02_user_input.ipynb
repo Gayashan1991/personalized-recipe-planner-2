{
 "cells": [
  {
   "cell_type": "code",
   "execution_count": 1,
   "id": "0ad1855d-fbe5-4cea-b395-2ef132f77910",
   "metadata": {},
   "outputs": [
    {
     "name": "stdout",
     "output_type": "stream",
     "text": [
      "User input file found at: ../data/user_input.json\n",
      "User Input:\n",
      "{\n",
      "    \"dietary_restrictions\": [\n",
      "        \"vegetarian\",\n",
      "        \"gluten-free\"\n",
      "    ],\n",
      "    \"health_goals\": \"low-carb\",\n",
      "    \"excluded_ingredients\": [\n",
      "        \"nuts\",\n",
      "        \"shellfish\"\n",
      "    ],\n",
      "    \"calorie_budget_per_meal\": 500,\n",
      "    \"preferred_meal_types\": [\n",
      "        \"breakfast\",\n",
      "        \"dinner\"\n",
      "    ]\n",
      "}\n",
      "All required keys are present in the user input.\n"
     ]
    }
   ],
   "source": [
    "# Import libraries\n",
    "import json\n",
    "import os\n",
    "\n",
    "# Define the path to the user input file\n",
    "user_input_path = \"../data/user_input.json\"\n",
    "\n",
    "# Check if the user input file exists\n",
    "if not os.path.exists(user_input_path):\n",
    "    # Create a sample user input file if it doesn't exist\n",
    "    sample_input = {\n",
    "        \"dietary_restrictions\": [\"vegetarian\", \"gluten-free\"],\n",
    "        \"health_goals\": \"low-carb\",\n",
    "        \"excluded_ingredients\": [\"nuts\", \"shellfish\"],\n",
    "        \"calorie_budget_per_meal\": 500,\n",
    "        \"preferred_meal_types\": [\"breakfast\", \"dinner\"]\n",
    "    }\n",
    "    \n",
    "    with open(user_input_path, \"w\") as file:\n",
    "        json.dump(sample_input, file, indent=4)\n",
    "        print(\"Sample user input file created at:\", user_input_path)\n",
    "else:\n",
    "    print(\"User input file found at:\", user_input_path)\n",
    "\n",
    "# Load the user input\n",
    "with open(user_input_path, \"r\") as file:\n",
    "    user_input = json.load(file)\n",
    "\n",
    "# Display the user input\n",
    "print(\"User Input:\")\n",
    "print(json.dumps(user_input, indent=4))\n",
    "\n",
    "# Validate user input\n",
    "required_keys = [\"dietary_restrictions\", \"health_goals\", \"excluded_ingredients\", \"calorie_budget_per_meal\", \"preferred_meal_types\"]\n",
    "\n",
    "missing_keys = [key for key in required_keys if key not in user_input]\n",
    "if missing_keys:\n",
    "    print(\"Error: Missing required keys in user input:\", missing_keys)\n",
    "else:\n",
    "    print(\"All required keys are present in the user input.\")\n"
   ]
  },
  {
   "cell_type": "code",
   "execution_count": null,
   "id": "80a62c87-0f98-464e-afcf-eeaff1363bf8",
   "metadata": {},
   "outputs": [],
   "source": []
  }
 ],
 "metadata": {
  "kernelspec": {
   "display_name": "Python 3 (ipykernel)",
   "language": "python",
   "name": "python3"
  },
  "language_info": {
   "codemirror_mode": {
    "name": "ipython",
    "version": 3
   },
   "file_extension": ".py",
   "mimetype": "text/x-python",
   "name": "python",
   "nbconvert_exporter": "python",
   "pygments_lexer": "ipython3",
   "version": "3.11.3"
  }
 },
 "nbformat": 4,
 "nbformat_minor": 5
}
