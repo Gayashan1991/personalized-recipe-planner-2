{
 "cells": [
  {
   "cell_type": "code",
   "execution_count": null,
   "id": "b4ea5024-7641-40d4-b2ed-b30927eaa4ef",
   "metadata": {},
   "outputs": [],
   "source": [
    "import pandas as pd\n",
    "import os\n",
    "\n",
    "# RAW_recipes.csv: Contains recipe details.\n",
    "# RAW_interactions.csv: Contains user reviews and ratings for the recipes.\n",
    "data_path = \"../data/RAW_recipes.csv\"\n",
    "if os.path.exists(data_path):\n",
    "    recipes_df = pd.read_csv(data_path)\n",
    "    print(\"Dataset loaded successfully!\")\n",
    "else:\n",
    "    raise FileNotFoundError(f\"Dataset not found at {data_path}. Please ensure it exists.\")\n",
    "\n",
    "# Display dataset structure and first few rows\n",
    "print(\"Dataset Structure:\")\n",
    "print(recipes_df.info())\n",
    "print(\"\\nSample Data:\")\n",
    "print(recipes_df.head())\n",
    "\n",
    "# Check for missing values\n",
    "missing_values = recipes_df.isnull().sum()\n",
    "print(\"\\nMissing Values in Each Column:\")\n",
    "print(missing_values)\n",
    "\n",
    "# Basic statistics of numerical columns\n",
    "print(\"\\nBasic Statistics:\")\n",
    "print(recipes_df.describe())\n",
    "\n",
    "# Save a subset of columns relevant for the recommender\n",
    "columns_to_keep = ['id', 'name', 'minutes', 'tags', 'nutrition', 'n_steps', 'ingredients']\n",
    "filtered_df = recipes_df[columns_to_keep]\n",
    "\n",
    "# Save cleaned data for further processing\n",
    "filtered_df.to_csv(\"../data/filtered_recipes.csv\", index=False)\n",
    "print(\"\\nFiltered dataset saved as 'filtered_recipes.csv'.\")\n"
   ]
  },
  {
   "cell_type": "code",
   "execution_count": null,
   "id": "d6a2858c-60b6-43b0-ae43-03e69aaa9cb2",
   "metadata": {},
   "outputs": [],
   "source": []
  }
 ],
 "metadata": {
  "kernelspec": {
   "display_name": "Python 3 (ipykernel)",
   "language": "python",
   "name": "python3"
  },
  "language_info": {
   "codemirror_mode": {
    "name": "ipython",
    "version": 3
   },
   "file_extension": ".py",
   "mimetype": "text/x-python",
   "name": "python",
   "nbconvert_exporter": "python",
   "pygments_lexer": "ipython3",
   "version": "3.11.3"
  }
 },
 "nbformat": 4,
 "nbformat_minor": 5
}
